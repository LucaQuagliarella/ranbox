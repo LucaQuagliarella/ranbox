{
 "cells": [
  {
   "cell_type": "markdown",
   "metadata": {},
   "source": [
    "-  how to get hepmass data from publink link: http://archive.ics.uci.edu/ml/datasets/hepmass#\n",
    "-  in this code you format the dataset and reduce the size down to 500K\n",
    "-  link to the resulting dataset: \n",
    "        - 500K: https://drive.google.com/file/d/1EKjJcqCrLY2m92L6cEhfgEAIswrnEyqJ/view?usp=sharing\n",
    "        - 5K: https://drive.google.com/file/d/1oID5w-TH2r3IDKBhlut_6WCn8DTVNsaZ/view?usp=sharing\n",
    "        - 5K - Signal: https://drive.google.com/file/d/1gai8lOexxsydP3OPBaOkeKwEYV4SC3BT/view?usp=sharing\n",
    "        - 5K - Background: https://drive.google.com/file/d/1IUvx6H9vJS9UvkJcY8Fu3cZY-dG3H2G1/view?usp=sharing"
   ]
  },
  {
   "cell_type": "code",
   "execution_count": 35,
   "metadata": {},
   "outputs": [],
   "source": [
    "#!pip install sklearn  # download sklearn if you do not have it\n",
    "#!pip install matplotlib "
   ]
  },
  {
   "cell_type": "code",
   "execution_count": 2,
   "metadata": {},
   "outputs": [],
   "source": [
    "import pandas as pd\n",
    "import numpy as np\n",
    "# public link:   \n",
    "pth_train = \"../../../../../Downloads/1000_train.csv\"\n",
    "all_train = pd.read_csv(pth_train)"
   ]
  },
  {
   "cell_type": "markdown",
   "metadata": {},
   "source": [
    "The whole dataset is around 5GB. Let's work with 500K data. An even smaller dataset (5K) is available to work with ranbox for now. The first cell of the header is the size of the individual file. "
   ]
  },
  {
   "cell_type": "code",
   "execution_count": 3,
   "metadata": {},
   "outputs": [],
   "source": [
    "row = np.zeros(len(all_train.columns), dtype = int)\n",
    "smalldataset =  all_train.iloc[:500_000]; smalldataset.columns = row;\n",
    "smalldataset_signal = smalldataset[smalldataset.index.values == 1]; row[0] = len(smalldataset_signal); smalldataset_signal.columns = row;\n",
    "smalldataset_background = smalldataset[smalldataset.index.values == 0]; row[0] = len(smalldataset_background); smalldataset_background.columns = row;"
   ]
  },
  {
   "cell_type": "code",
   "execution_count": 4,
   "metadata": {},
   "outputs": [],
   "source": [
    "smallerdataset =  all_train.iloc[:5000]; smallerdataset.columns = row;\n",
    "smallerdataset_signal = smallerdataset[smallerdataset.index.values == 1]; row[0] = len(smallerdataset_signal); smallerdataset_signal.columns = row;\n",
    "smallerdataset_background = smallerdataset[smallerdataset.index.values == 0]; row[0] = len(smallerdataset_background); smallerdataset_background.columns = row;"
   ]
  },
  {
   "cell_type": "code",
   "execution_count": 5,
   "metadata": {},
   "outputs": [
    {
     "data": {
      "text/plain": [
       "(250286, 249714, 2476, 2524)"
      ]
     },
     "execution_count": 5,
     "metadata": {},
     "output_type": "execute_result"
    }
   ],
   "source": [
    "len(smalldataset_signal), len(smalldataset_background), len(smallerdataset_signal), len(smallerdataset_background)"
   ]
  },
  {
   "cell_type": "code",
   "execution_count": null,
   "metadata": {},
   "outputs": [],
   "source": [
    "smalldataset.to_csv(\"hepmass_train_500K.csv\", header = True, index = False, sep = \" \", float_format = '{:.6E}'.format)\n",
    "smallerdataset.to_csv(\"hepmass_train_5K.csv\", header = True, index = False, sep = \" \", float_format = '{:.6E}'.format)"
   ]
  },
  {
   "cell_type": "code",
   "execution_count": null,
   "metadata": {},
   "outputs": [],
   "source": [
    "smallerdataset_signal.to_csv(\"hepmass_train_5K_signal.csv\", header = True, index = False, sep = \" \", float_format = '{:.6E}'.format)\n",
    "smallerdataset_background.to_csv(\"hepmass_train_5K_background.csv\", header = True, index = False, sep = \" \", float_format = '{:.6E}'.format)"
   ]
  },
  {
   "cell_type": "code",
   "execution_count": 48,
   "metadata": {},
   "outputs": [
    {
     "data": {
      "text/html": [
       "<div>\n",
       "<style scoped>\n",
       "    .dataframe tbody tr th:only-of-type {\n",
       "        vertical-align: middle;\n",
       "    }\n",
       "\n",
       "    .dataframe tbody tr th {\n",
       "        vertical-align: top;\n",
       "    }\n",
       "\n",
       "    .dataframe thead th {\n",
       "        text-align: right;\n",
       "    }\n",
       "</style>\n",
       "<table border=\"1\" class=\"dataframe\">\n",
       "  <thead>\n",
       "    <tr style=\"text-align: right;\">\n",
       "      <th></th>\n",
       "      <th>2524 0 0 0 0 0 0 0 0 0 0 0 0 0 0 0 0 0 0 0 0 0 0 0 0 0 0</th>\n",
       "    </tr>\n",
       "  </thead>\n",
       "  <tbody>\n",
       "    <tr>\n",
       "      <th>0</th>\n",
       "      <td>-3.606934E-01 1.794174E+00 2.647381E-01 -4.722...</td>\n",
       "    </tr>\n",
       "    <tr>\n",
       "      <th>1</th>\n",
       "      <td>-6.743614E-02 -6.367618E-01 -6.201658E-01 -6.2...</td>\n",
       "    </tr>\n",
       "    <tr>\n",
       "      <th>2</th>\n",
       "      <td>2.204765E+00 2.836205E-01 -2.225772E-01 -2.717...</td>\n",
       "    </tr>\n",
       "    <tr>\n",
       "      <th>3</th>\n",
       "      <td>5.206791E-01 7.902089E-01 -2.215180E-01 -4.241...</td>\n",
       "    </tr>\n",
       "    <tr>\n",
       "      <th>4</th>\n",
       "      <td>-4.212980E-01 -9.658297E-01 -1.499216E+00 -2.7...</td>\n",
       "    </tr>\n",
       "    <tr>\n",
       "      <th>...</th>\n",
       "      <td>...</td>\n",
       "    </tr>\n",
       "    <tr>\n",
       "      <th>2519</th>\n",
       "      <td>-1.337188E+00 -6.518753E-01 2.126067E-01 7.673...</td>\n",
       "    </tr>\n",
       "    <tr>\n",
       "      <th>2520</th>\n",
       "      <td>-1.444841E+00 -4.113435E-01 -8.074096E-01 3.88...</td>\n",
       "    </tr>\n",
       "    <tr>\n",
       "      <th>2521</th>\n",
       "      <td>9.327349E-01 1.380971E-01 5.661843E-01 -3.6019...</td>\n",
       "    </tr>\n",
       "    <tr>\n",
       "      <th>2522</th>\n",
       "      <td>-9.387400E-01 -4.948726E-01 1.624340E+00 -4.47...</td>\n",
       "    </tr>\n",
       "    <tr>\n",
       "      <th>2523</th>\n",
       "      <td>5.653116E-01 1.029474E+00 1.486843E+00 -1.0492...</td>\n",
       "    </tr>\n",
       "  </tbody>\n",
       "</table>\n",
       "<p>2524 rows × 1 columns</p>\n",
       "</div>"
      ],
      "text/plain": [
       "     2524 0 0 0 0 0 0 0 0 0 0 0 0 0 0 0 0 0 0 0 0 0 0 0 0 0 0\n",
       "0     -3.606934E-01 1.794174E+00 2.647381E-01 -4.722...      \n",
       "1     -6.743614E-02 -6.367618E-01 -6.201658E-01 -6.2...      \n",
       "2     2.204765E+00 2.836205E-01 -2.225772E-01 -2.717...      \n",
       "3     5.206791E-01 7.902089E-01 -2.215180E-01 -4.241...      \n",
       "4     -4.212980E-01 -9.658297E-01 -1.499216E+00 -2.7...      \n",
       "...                                                 ...      \n",
       "2519  -1.337188E+00 -6.518753E-01 2.126067E-01 7.673...      \n",
       "2520  -1.444841E+00 -4.113435E-01 -8.074096E-01 3.88...      \n",
       "2521  9.327349E-01 1.380971E-01 5.661843E-01 -3.6019...      \n",
       "2522  -9.387400E-01 -4.948726E-01 1.624340E+00 -4.47...      \n",
       "2523  5.653116E-01 1.029474E+00 1.486843E+00 -1.0492...      \n",
       "\n",
       "[2524 rows x 1 columns]"
      ]
     },
     "execution_count": 48,
     "metadata": {},
     "output_type": "execute_result"
    }
   ],
   "source": [
    "pd.read_csv(\"hepmass_train_5K_background.csv\")"
   ]
  },
  {
   "cell_type": "code",
   "execution_count": 6,
   "metadata": {},
   "outputs": [
    {
     "data": {
      "text/plain": [
       "('%signal: ', 0.500572)"
      ]
     },
     "execution_count": 6,
     "metadata": {},
     "output_type": "execute_result"
    }
   ],
   "source": [
    "\"%signal: \", smalldataset.index.values.sum()/500_000"
   ]
  },
  {
   "cell_type": "markdown",
   "metadata": {},
   "source": [
    "## Preprocessing\n",
    "\n",
    "1. Scaler is fitted to the background (stored for future use)\n",
    "2. Background data is transformed using the scaler\n",
    "3. Signal is transformed using the scaler"
   ]
  },
  {
   "cell_type": "code",
   "execution_count": 47,
   "metadata": {},
   "outputs": [],
   "source": [
    "# Preprocessing: sklearn --> MinMaxScaler\n",
    "\"\"\"\n",
    "  // Before doing PCA on real data, we need to transform all features \n",
    "  // such that they have equal span. This is because PCA is sensitive \n",
    "  // to the span of the variables\n",
    "  // ----------------------------------------------------------------\n",
    "  for (int i=0; i<goodevents; i++) {\n",
    "for (int dim=0; dim<NAD; dim++) {\n",
    "  if (feature[dim][i]<X0min[dim]) X0min[dim] = feature[dim][i];\n",
    "  if (feature[dim][i]>X0max[dim]) X0max[dim] = feature[dim][i];\n",
    "}\n",
    "  }\n",
    "  for (int i=0; i<goodevents; i++) {\n",
    "for (int dim=0; dim<NAD; dim++) {\n",
    "  feature[dim][i] = (feature[dim][i]-X0min[dim])/(X0max[dim]-X0min[dim]);\n",
    "}\n",
    "  }\n",
    "\"\"\"\n",
    "\n",
    "from sklearn.preprocessing import MinMaxScaler\n",
    "scaler = MinMaxScaler()\n",
    "smallerdataset_background_scaled2 = scaler.fit_transform(smallerdataset_background) \n",
    "smallerdataset_signal_scaled2 = scaler.transform(smalldataset_signal)"
   ]
  },
  {
   "cell_type": "code",
   "execution_count": null,
   "metadata": {},
   "outputs": [],
   "source": []
  },
  {
   "cell_type": "markdown",
   "metadata": {},
   "source": [
    "Categorical features: 5,9, 13, 17, 21"
   ]
  },
  {
   "cell_type": "code",
   "execution_count": 33,
   "metadata": {},
   "outputs": [],
   "source": [
    "smalldataset.columns = np.arange(len(smallerdataset.columns))\n",
    "import matplotlib.pylab as plt"
   ]
  },
  {
   "cell_type": "code",
   "execution_count": 34,
   "metadata": {},
   "outputs": [
    {
     "data": {
      "image/png": "[encoded data removed]",
      "text/plain": [
       "<Figure size 504x504 with 6 Axes>"
      ]
     },
     "metadata": {
      "needs_background": "light"
     },
     "output_type": "display_data"
    }
   ],
   "source": [
    "smalldataset.iloc[:,[5,9,13,17,21]].hist(bins =40, figsize = (7,7));\n",
    "plt.savefig(\"plot.png\")"
   ]
  },
  {
   "cell_type": "markdown",
   "metadata": {},
   "source": [
    "Large discontinuities in the rest of the dataset?"
   ]
  },
  {
   "cell_type": "code",
   "execution_count": 145,
   "metadata": {},
   "outputs": [],
   "source": [
    "\"\"\"\n",
    "// Additional preprocessing step to avoid large discontinuities in support affecting the PCA step:\n",
    "// We loop on each feature and create N-bin histograms, then if a bin is empty we move all data\n",
    "// to the right of the bin down by the bin width, \"filling the gap\". This is iterated until all\n",
    "// empty space (within a coarseness of a factor 2^13 from original [0,1] support of standardized\n",
    "// features is removed from the support of the features.\n",
    "// ----------------------------------------------------------------------------------------------\n",
    "if (compactify) {\n",
    "int c[4096];\n",
    "for (int Niter=1; Niter<13; Niter++) {\n",
    "  float binwidth=1./pow(2,Niter);\n",
    "  for (int dim=0; dim<NAD; dim++) {\n",
    "    for (int n=0; n<pow(2,Niter); n++) { c[n]=0; };\n",
    "    for (int i=0; i<goodevents; i++) {\n",
    "      int ibin = (int)(feature[dim][i]/binwidth);\n",
    "      if (ibin==pow(2,Niter)) ibin -= 1; // avoid boundary problems\n",
    "      c[ibin]++;\n",
    "    }\n",
    "    for (int n=1; n<pow(2,Niter)-1; n++) {\n",
    "      if (c[n]==0) { // bin is empty, need to compactify data support\n",
    "    for (int i=0; i<goodevents; i++) {\n",
    "      if (feature[dim][i]>binwidth*n) feature[dim][i] -= binwidth*n;\n",
    "    }\n",
    "      }\n",
    "    }\n",
    "  }\n",
    "}\n",
    "\"\"\";\n",
    "NAD = 27\n",
    "\n",
    "def secondstep(compactify, dataset):\n",
    "    if compactify == False:\n",
    "        return dataset\n",
    "    goodevents = len(dataset)\n",
    "    c = np.zeros(4096, dtype = int)\n",
    "    for Niter in range(1,13):\n",
    "        binwidth = 1./(2**Niter)\n",
    "        for dim in range(NAD):\n",
    "            for i in range(goodevents):\n",
    "                ibin = int(dataset[i,dim]/binwidth)\n",
    "                if ibin  == 2**Niter:\n",
    "                    ibin -= 1 \n",
    "                c[ibin] +=1\n",
    "            \n",
    "            for n in range(1,2**Niter -1):\n",
    "                if c[n] == 0:\n",
    "                    for i in range(goodevents):\n",
    "                        if dataset[i,dim] > (binwidth * n):\n",
    "                            dataset[i,dim] -= (binwidth *n)\n",
    "    return dataset\n",
    "                                      "
   ]
  },
  {
   "cell_type": "code",
   "execution_count": null,
   "metadata": {},
   "outputs": [],
   "source": []
  },
  {
   "cell_type": "code",
   "execution_count": null,
   "metadata": {},
   "outputs": [],
   "source": []
  }
 ],
 "metadata": {
  "kernelspec": {
   "display_name": "Python 3",
   "language": "python",
   "name": "python3"
  },
  "language_info": {
   "codemirror_mode": {
    "name": "ipython",
    "version": 3
   },
   "file_extension": ".py",
   "mimetype": "text/x-python",
   "name": "python",
   "nbconvert_exporter": "python",
   "pygments_lexer": "ipython3",
   "version": "3.7.1"
  }
 },
 "nbformat": 4,
 "nbformat_minor": 2
}
