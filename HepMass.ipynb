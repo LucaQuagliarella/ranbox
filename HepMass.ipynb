{
 "cells": [
  {
   "cell_type": "markdown",
   "metadata": {},
   "source": [
    "-  how to get hepmass data from publink link: http://archive.ics.uci.edu/ml/datasets/hepmass#\n",
    "-  in this code you format the dataset and reduce the size down to 500K\n",
    "-  link to the resulting dataset: \n",
    "        - 500K: https://drive.google.com/file/d/1EKjJcqCrLY2m92L6cEhfgEAIswrnEyqJ/view?usp=sharing\n",
    "        - 5K: https://drive.google.com/file/d/1oID5w-TH2r3IDKBhlut_6WCn8DTVNsaZ/view?usp=sharing"
   ]
  },
  {
   "cell_type": "markdown",
   "metadata": {},
   "source": [
    "This code will be updated with the standardization procedure"
   ]
  },
  {
   "cell_type": "code",
   "execution_count": 52,
   "metadata": {},
   "outputs": [],
   "source": [
    "import pandas as pd\n",
    "import numpy as np\n",
    "# public link:   \n",
    "pth_train = \"../../../../../Downloads/1000_train.csv\"\n",
    "all_train = pd.read_csv(pth_train)"
   ]
  },
  {
   "cell_type": "code",
   "execution_count": 61,
   "metadata": {},
   "outputs": [],
   "source": [
    "row = np.zeros(len(all_train.columns), dtype = int)\n",
    "row[0] = 100 # random for now for the ranbox code to read, to be changed\n",
    "row[1] = 100\n",
    "smalldataset =  all_train.iloc[:500_000]; smalldataset.columns = row;\n",
    "smallerdataset =  all_train.iloc[:5000]; smallerdataset.columns = row;"
   ]
  },
  {
   "cell_type": "code",
   "execution_count": 62,
   "metadata": {},
   "outputs": [],
   "source": [
    "smalldataset.to_csv(\"hepmass_train_500K.csv\", header = True, index = False, sep = \" \", float_format = '{:.6E}'.format)\n",
    "smallerdataset.to_csv(\"hepmass_train_5K.csv\", header = True, index = False, sep = \" \", float_format = '{:.6E}'.format)"
   ]
  },
  {
   "cell_type": "code",
   "execution_count": 63,
   "metadata": {},
   "outputs": [
    {
     "data": {
      "text/html": [
       "<div>\n",
       "<style scoped>\n",
       "    .dataframe tbody tr th:only-of-type {\n",
       "        vertical-align: middle;\n",
       "    }\n",
       "\n",
       "    .dataframe tbody tr th {\n",
       "        vertical-align: top;\n",
       "    }\n",
       "\n",
       "    .dataframe thead th {\n",
       "        text-align: right;\n",
       "    }\n",
       "</style>\n",
       "<table border=\"1\" class=\"dataframe\">\n",
       "  <thead>\n",
       "    <tr style=\"text-align: right;\">\n",
       "      <th></th>\n",
       "      <th>100 100 0 0 0 0 0 0 0 0 0 0 0 0 0 0 0 0 0 0 0 0 0 0 0 0 0</th>\n",
       "    </tr>\n",
       "  </thead>\n",
       "  <tbody>\n",
       "    <tr>\n",
       "      <th>0</th>\n",
       "      <td>2.178961E-01 9.330718E-01 -5.961744E-01 1.1484...</td>\n",
       "    </tr>\n",
       "    <tr>\n",
       "      <th>1</th>\n",
       "      <td>1.569236E+00 1.686193E+00 -2.226649E-01 4.8578...</td>\n",
       "    </tr>\n",
       "    <tr>\n",
       "      <th>2</th>\n",
       "      <td>-3.606934E-01 1.794174E+00 2.647381E-01 -4.722...</td>\n",
       "    </tr>\n",
       "    <tr>\n",
       "      <th>3</th>\n",
       "      <td>-6.911299E-01 -1.063802E+00 -1.198263E+00 6.91...</td>\n",
       "    </tr>\n",
       "    <tr>\n",
       "      <th>4</th>\n",
       "      <td>-6.743614E-02 -6.367618E-01 -6.201658E-01 -6.2...</td>\n",
       "    </tr>\n",
       "    <tr>\n",
       "      <th>...</th>\n",
       "      <td>...</td>\n",
       "    </tr>\n",
       "    <tr>\n",
       "      <th>499995</th>\n",
       "      <td>-9.592633E-01 -4.784562E-01 -1.629655E+00 8.13...</td>\n",
       "    </tr>\n",
       "    <tr>\n",
       "      <th>499996</th>\n",
       "      <td>-6.288500E-01 -1.004971E+00 6.226089E-01 -4.14...</td>\n",
       "    </tr>\n",
       "    <tr>\n",
       "      <th>499997</th>\n",
       "      <td>9.331346E-01 6.243826E-01 1.168251E+00 1.25095...</td>\n",
       "    </tr>\n",
       "    <tr>\n",
       "      <th>499998</th>\n",
       "      <td>1.494034E+00 1.010618E+00 -5.078426E-01 1.0761...</td>\n",
       "    </tr>\n",
       "    <tr>\n",
       "      <th>499999</th>\n",
       "      <td>2.100562E-01 1.343798E-01 -2.051387E-01 1.6479...</td>\n",
       "    </tr>\n",
       "  </tbody>\n",
       "</table>\n",
       "<p>500000 rows × 1 columns</p>\n",
       "</div>"
      ],
      "text/plain": [
       "       100 100 0 0 0 0 0 0 0 0 0 0 0 0 0 0 0 0 0 0 0 0 0 0 0 0 0\n",
       "0       2.178961E-01 9.330718E-01 -5.961744E-01 1.1484...       \n",
       "1       1.569236E+00 1.686193E+00 -2.226649E-01 4.8578...       \n",
       "2       -3.606934E-01 1.794174E+00 2.647381E-01 -4.722...       \n",
       "3       -6.911299E-01 -1.063802E+00 -1.198263E+00 6.91...       \n",
       "4       -6.743614E-02 -6.367618E-01 -6.201658E-01 -6.2...       \n",
       "...                                                   ...       \n",
       "499995  -9.592633E-01 -4.784562E-01 -1.629655E+00 8.13...       \n",
       "499996  -6.288500E-01 -1.004971E+00 6.226089E-01 -4.14...       \n",
       "499997  9.331346E-01 6.243826E-01 1.168251E+00 1.25095...       \n",
       "499998  1.494034E+00 1.010618E+00 -5.078426E-01 1.0761...       \n",
       "499999  2.100562E-01 1.343798E-01 -2.051387E-01 1.6479...       \n",
       "\n",
       "[500000 rows x 1 columns]"
      ]
     },
     "execution_count": 63,
     "metadata": {},
     "output_type": "execute_result"
    }
   ],
   "source": [
    "pd.read_csv(\"hepmass_train_500K.csv\")"
   ]
  },
  {
   "cell_type": "code",
   "execution_count": 64,
   "metadata": {},
   "outputs": [
    {
     "data": {
      "text/plain": [
       "('%signal: ', 0.500572)"
      ]
     },
     "execution_count": 64,
     "metadata": {},
     "output_type": "execute_result"
    }
   ],
   "source": [
    "\"%signal: \", smalldataset.index.values.sum()/500_000"
   ]
  },
  {
   "cell_type": "code",
   "execution_count": null,
   "metadata": {},
   "outputs": [],
   "source": []
  }
 ],
 "metadata": {
  "kernelspec": {
   "display_name": "Python 3 (ipykernel)",
   "language": "python",
   "name": "python3"
  },
  "language_info": {
   "codemirror_mode": {
    "name": "ipython",
    "version": 3
   },
   "file_extension": ".py",
   "mimetype": "text/x-python",
   "name": "python",
   "nbconvert_exporter": "python",
   "pygments_lexer": "ipython3",
   "version": "3.8.10"
  }
 },
 "nbformat": 4,
 "nbformat_minor": 2
}
